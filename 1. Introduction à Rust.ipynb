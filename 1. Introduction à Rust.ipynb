{
 "cells": [
  {
   "cell_type": "markdown",
   "metadata": {
    "slideshow": {
     "slide_type": "slide"
    }
   },
   "source": [
    "\n",
    "# Introduction à Rust\n",
    "\n",
    "[Pierre-Antoine Champin](https://champin.net/) (W3C/Inria/Lyon 1)\n",
    "\n",
    "http://github.com/pchampin/rust-envol-2025\n",
    "\n",
    "<a rel=\"license\" href=\"http://creativecommons.org/licenses/by-nc-sa/2.0/fr/\"><img alt=\"Contrat Creative Commons\" style=\"border-width:0\" src=\"http://i.creativecommons.org/l/by-nc-sa/2.0/fr/88x31.png\" /></a>"
   ]
  },
  {
   "cell_type": "code",
   "execution_count": 2,
   "metadata": {},
   "outputs": [],
   "source": [
    "fn main() {  \n",
    "    println!(\"hello world\");\n",
    "}"
   ]
  },
  {
   "cell_type": "markdown",
   "metadata": {
    "slideshow": {
     "slide_type": "slide"
    }
   },
   "source": [
    "## Pourquoi Rust ?"
   ]
  },
  {
   "cell_type": "markdown",
   "metadata": {
    "slideshow": {
     "slide_type": "subslide"
    }
   },
   "source": [
    "### En bref\n",
    "\n",
    "Rust met l'accent sur\n",
    "\n",
    "* Performances\n",
    "* Fiabilité\n",
    "* Productivité"
   ]
  },
  {
   "cell_type": "markdown",
   "metadata": {
    "slideshow": {
     "slide_type": "fragment"
    }
   },
   "source": [
    "Ainsi que *memory-safety* et *thread-safety*"
   ]
  },
  {
   "cell_type": "markdown",
   "metadata": {
    "slideshow": {
     "slide_type": "subslide"
    }
   },
   "source": [
    "### Abstraction zéro-coût (*zero-cost abstraction*)\n",
    "\n",
    "* Je ne paye que pour ce que j'utilise\n",
    "* Les couches d'abstraction sont optimisées par le compilateur\n",
    "* \"Un langage de programmation système haut-niveau\""
   ]
  },
  {
   "cell_type": "markdown",
   "metadata": {
    "slideshow": {
     "slide_type": "subslide"
    }
   },
   "source": [
    "### Une commauté accueillante\n",
    "\n",
    "* [Stackoverflow](https://stackoverflow.com/questions/tagged/rust)\n",
    "\n",
    "  - \"*most loved/admired language*\" depuis 2016\n",
    "  \n",
    "* https://users.rust-lang.org/"
   ]
  },
  {
   "cell_type": "markdown",
   "metadata": {
    "slideshow": {
     "slide_type": "subslide"
    }
   },
   "source": [
    "### Un langage mature\n",
    "\n",
    "\n",
    "* 2006: Graydon Hoare crée Rust\n",
    "* 2009: Mozilla adopte le projet\n",
    "* 2015: Publication de la version 1.0 du compilateur\n",
    "* 2021: Création de la *Rust Foundation*"
   ]
  },
  {
   "cell_type": "markdown",
   "metadata": {
    "slideshow": {
     "slide_type": "subslide"
    }
   },
   "source": [
    "### Mais pourquoi « Rust » ?\n",
    "\n",
    "* en référence aux [rust fungi](https://en.wikipedia.org/wiki/Rust_(fungus)) (Pucciniales en français) car ils sont robustes, distribués et parallèles\n",
    "* une sous-chaîne de \"*robust*\"\n",
    "* n'introduit aucun nouveau concept, uniquement de vieux concepts ayant fait leurs preuves"
   ]
  },
  {
   "cell_type": "markdown",
   "metadata": {
    "slideshow": {
     "slide_type": "slide"
    }
   },
   "source": [
    "## Liens utiles\n",
    "\n",
    "* Site: https://rust-lang.org/\n",
    "* Documentation: https://doc.rust-lang.org/std/\n",
    "* *Playground*: https://play.rust-lang.org/"
   ]
  },
  {
   "cell_type": "markdown",
   "metadata": {
    "slideshow": {
     "slide_type": "fragment"
    }
   },
   "source": [
    "* Bibliothèques: https://crates.io/\n",
    "* Documentation des bibliothèques: https://docs.rs/"
   ]
  },
  {
   "cell_type": "markdown",
   "metadata": {
    "slideshow": {
     "slide_type": "fragment"
    }
   },
   "source": [
    "* *Compiler explorer*: https://rust.godbolt.org/\n",
    "\n",
    "* Supports de cours de F. Wagner: https://wagnerf.pages.ensimag.fr/rust/"
   ]
  },
  {
   "cell_type": "markdown",
   "metadata": {
    "slideshow": {
     "slide_type": "slide"
    }
   },
   "source": [
    "## `cargo`\n",
    "\n",
    "`cargo` est le couteau suisse du dévelopeur Rust.\n",
    "\n",
    "Il est utilisé (entre autres choses) pour:\n",
    "\n",
    "* créer un nouveau projet (`cargo new <dirname>`)\n",
    "* compiler un projet (`cargo build`)\n",
    "* exécuter un programme (`cargo run`) – en le compilant si nécessaire\n",
    "* exécuter les tests unitaires (`cargo test`)\n",
    "* générer la documentation (`cargo doc`)"
   ]
  },
  {
   "cell_type": "markdown",
   "metadata": {
    "slideshow": {
     "slide_type": "subslide"
    }
   },
   "source": [
    "### Anatomie d'un projet cargo\n",
    "\n",
    "```\n",
    "myproject\n",
    " \\_ .git\n",
    " \\_ .gitignore\n",
    " \\_ Cargo.toml\n",
    " \\_ src\n",
    "     \\_ main.rs\n",
    "```"
   ]
  },
  {
   "cell_type": "markdown",
   "metadata": {
    "slideshow": {
     "slide_type": "fragment"
    }
   },
   "source": [
    "```\n",
    "     \\_ ...\n",
    " \\_ tests\n",
    "     \\_ ...\n",
    " \\_ examples\n",
    "     \\_ ...\n",
    " \\_ target\n",
    "     \\_ ...\n",
    "```"
   ]
  },
  {
   "cell_type": "markdown",
   "metadata": {
    "slideshow": {
     "slide_type": "subslide"
    }
   },
   "source": [
    "Le fichier `Cargo.toml` initial ressemble à cela:\n",
    "\n",
    "```toml\n",
    "[package]\n",
    "name = \"myproject\"\n",
    "version = \"0.1.0\"\n",
    "edition = \"2024\"\n",
    "\n",
    "[dependencies]\n",
    "```"
   ]
  },
  {
   "cell_type": "markdown",
   "metadata": {
    "slideshow": {
     "slide_type": "subslide"
    }
   },
   "source": [
    "### Gestionnaire de dépendances\n",
    "\n",
    "Par défaut, `cargo` télécharge toutes les dépendances depuis `https://crates.io/`,\n",
    "\n",
    "mais d'autres options sont possibles\n",
    "\n",
    "- répertoire local,\n",
    "- dépôt GIT local ou distant,\n",
    "- registre alternatif."
   ]
  },
  {
   "cell_type": "markdown",
   "metadata": {
    "slideshow": {
     "slide_type": "slide"
    }
   },
   "source": [
    "## Syntaxe"
   ]
  },
  {
   "cell_type": "markdown",
   "metadata": {
    "slideshow": {
     "slide_type": "subslide"
    }
   },
   "source": [
    "### Exemple filé: la fonction *factorielle*"
   ]
  },
  {
   "cell_type": "code",
   "execution_count": 3,
   "metadata": {},
   "outputs": [],
   "source": [
    "fn fact(n: u64) -> u64 {\n",
    "    if n == 0 {\n",
    "        return 1;\n",
    "    } else {\n",
    "        return n*fact(n-1);\n",
    "    }\n",
    "}"
   ]
  },
  {
   "cell_type": "code",
   "execution_count": 4,
   "metadata": {
    "slideshow": {
     "slide_type": "-"
    }
   },
   "outputs": [
    {
     "data": {
      "text/plain": [
       "2432902008176640000"
      ]
     },
     "execution_count": 4,
     "metadata": {},
     "output_type": "execute_result"
    }
   ],
   "source": [
    "fact(20)"
   ]
  },
  {
   "cell_type": "markdown",
   "metadata": {
    "slideshow": {
     "slide_type": "fragment"
    }
   },
   "source": [
    "* `fn` introduit une fonction\n",
    "* `n: u64` est un paramètre, suivi de son type (entier non signé sur 64 bits)\n",
    "* `-> u64` indique le type de retour de la fonction (optionnel si la fonction ne retourne rien)\n",
    "* pas de parenthèses autour de la condition du `if`"
   ]
  },
  {
   "cell_type": "markdown",
   "metadata": {
    "slideshow": {
     "slide_type": "subslide"
    }
   },
   "source": [
    "### Version itérative: boucle `while`"
   ]
  },
  {
   "cell_type": "code",
   "execution_count": 5,
   "metadata": {},
   "outputs": [],
   "source": [
    "fn fact(n: u64) -> u64 {\n",
    "    let mut f: u64 = 1;\n",
    "    let mut i: u64 = 2;\n",
    "    while i <= n {\n",
    "        f *= i;\n",
    "        i += 1;\n",
    "    }\n",
    "    return f;\n",
    "}"
   ]
  },
  {
   "cell_type": "code",
   "execution_count": 6,
   "metadata": {
    "slideshow": {
     "slide_type": "notes"
    }
   },
   "outputs": [],
   "source": [
    "assert_eq!(fact(7), 5040); // test"
   ]
  },
  {
   "cell_type": "markdown",
   "metadata": {
    "slideshow": {
     "slide_type": "fragment"
    }
   },
   "source": [
    "* `let` introduit une variable locale\n",
    "* `mut` indique que la variable est mutable (*i.e.* que sa valeur peut changer pendant l'exécution)\n",
    "* pas de parenthèses autour de la condition du `while`"
   ]
  },
  {
   "cell_type": "markdown",
   "metadata": {
    "slideshow": {
     "slide_type": "subslide"
    }
   },
   "source": [
    "### Version itérative plus idiomatique 🦀"
   ]
  },
  {
   "cell_type": "code",
   "execution_count": 7,
   "metadata": {},
   "outputs": [],
   "source": [
    "fn fact(n: u64) -> u64 {\n",
    "    let mut f = 1;\n",
    "    let mut i = 2;\n",
    "    while i <= n {\n",
    "        f *= i;\n",
    "        i += 1;\n",
    "    }\n",
    "    f\n",
    "}"
   ]
  },
  {
   "cell_type": "code",
   "execution_count": 8,
   "metadata": {
    "slideshow": {
     "slide_type": "notes"
    }
   },
   "outputs": [],
   "source": [
    "assert_eq!(fact(7), 5040); // test"
   ]
  },
  {
   "cell_type": "markdown",
   "metadata": {
    "slideshow": {
     "slide_type": "fragment"
    }
   },
   "source": [
    "* 🦀 **inférence de type**: le type des variables locales est optionnel si le compilateur peut le deviner (ce qui est souvent le cas)\n",
    "* `mut` est toujours requis\n",
    "* 🦀 tout block (entre accolades) est une **expression** dont la valeur est celle de sa dernière expression (*sans* point-virgule final)\n",
    "* une fonction qui atteint la fin de son bloc retourne la valeur de ce bloc"
   ]
  },
  {
   "cell_type": "code",
   "execution_count": 9,
   "metadata": {
    "slideshow": {
     "slide_type": "subslide"
    }
   },
   "outputs": [
    {
     "name": "stdout",
     "output_type": "stream",
     "text": [
      "Le PGCD de 18 et 12 est 6\n"
     ]
    }
   ],
   "source": [
    "// un autre exemple de bloc utilisé comme expression\n",
    "let x = 18;\n",
    "let y = 12;\n",
    "let pgcd = {\n",
    "    // Algorithme d'Euclide\n",
    "    let mut a = x;\n",
    "    let mut b = y;\n",
    "    while b > 0 { (a, b) = (b, a%b) }\n",
    "    a\n",
    "};\n",
    "println!(\"Le PGCD de {x} et {y} est {pgcd}\");"
   ]
  },
  {
   "cell_type": "markdown",
   "metadata": {
    "slideshow": {
     "slide_type": "subslide"
    }
   },
   "source": [
    "### Version récursive plus idiomatique 🦀"
   ]
  },
  {
   "cell_type": "code",
   "execution_count": 10,
   "metadata": {},
   "outputs": [],
   "source": [
    "fn fact(n: u64) -> u64 {\n",
    "    if n == 0 {\n",
    "        1\n",
    "    } else {\n",
    "        n*fact(n-1)\n",
    "    }\n",
    "}"
   ]
  },
  {
   "cell_type": "code",
   "execution_count": 11,
   "metadata": {
    "slideshow": {
     "slide_type": "notes"
    }
   },
   "outputs": [],
   "source": [
    "assert_eq!(fact(7), 5040); // test"
   ]
  },
  {
   "cell_type": "markdown",
   "metadata": {
    "slideshow": {
     "slide_type": "fragment"
    }
   },
   "source": [
    "* une clause `if` est une expression dont la valeur est celle du block `then` ou du bloc `else`\n",
    "    + les 2 blocs doivent donc avoir le même type\n",
    "* la fonction `fact` est constituée d'une unique expression (la clause `if`)"
   ]
  },
  {
   "cell_type": "code",
   "execution_count": 12,
   "metadata": {
    "slideshow": {
     "slide_type": "subslide"
    }
   },
   "outputs": [
    {
     "name": "stdout",
     "output_type": "stream",
     "text": [
      "21 est impair\n"
     ]
    }
   ],
   "source": [
    "// autre exemple d'utilisation de `if` comme une expression\n",
    "let x = 21;\n",
    "\n",
    "let txt = if x%2 == 0 { \"pair\" } else { \"impair\" };\n",
    "\n",
    "println!(\"{x} est {txt}\");"
   ]
  },
  {
   "cell_type": "markdown",
   "metadata": {
    "slideshow": {
     "slide_type": "subslide"
    }
   },
   "source": [
    "### Boucle `for`"
   ]
  },
  {
   "cell_type": "code",
   "execution_count": 13,
   "metadata": {},
   "outputs": [],
   "source": [
    "fn fact(n: u64) -> u64 {\n",
    "    let mut f = 1;\n",
    "    for i in 2..=n {\n",
    "        f *= i;\n",
    "    }\n",
    "    f\n",
    "}"
   ]
  },
  {
   "cell_type": "code",
   "execution_count": 14,
   "metadata": {
    "slideshow": {
     "slide_type": "notes"
    }
   },
   "outputs": [],
   "source": [
    "assert_eq!(fact(7), 5040); // test"
   ]
  },
  {
   "cell_type": "markdown",
   "metadata": {
    "slideshow": {
     "slide_type": "fragment"
    }
   },
   "source": [
    "* la boucle `for` attent un **itérateur** et exécute son block sur chacun des éléments de cet itérateur\n",
    "* `i..=j` est un itérateur énumérant toutes les valeurs de l'intervalle $[i,j]$\n",
    "* Variantes:\n",
    "  + `i..j` représente l'intervalle  $[i,j[$\n",
    "  + `i..` représente l'intervalle  $[i,+∞[$"
   ]
  },
  {
   "cell_type": "markdown",
   "metadata": {
    "slideshow": {
     "slide_type": "subslide"
    }
   },
   "source": [
    "### Clause `match`"
   ]
  },
  {
   "cell_type": "code",
   "execution_count": 15,
   "metadata": {},
   "outputs": [],
   "source": [
    "fn fact(n: u64) -> u64 {\n",
    "    match n {\n",
    "        0 | 1 => 1,\n",
    "        2.. => n*fact(n-1),\n",
    "    }\n",
    "}"
   ]
  },
  {
   "cell_type": "code",
   "execution_count": 16,
   "metadata": {
    "slideshow": {
     "slide_type": "notes"
    }
   },
   "outputs": [],
   "source": [
    "assert_eq!(fact(7), 5040); // test"
   ]
  },
  {
   "cell_type": "markdown",
   "metadata": {
    "slideshow": {
     "slide_type": "fragment"
    }
   },
   "source": [
    "* La clause `match` évalue la première branche dont le **motif** (à gauche de la flêche `=>`) correspond à la valeur passée"
   ]
  },
  {
   "cell_type": "markdown",
   "metadata": {
    "slideshow": {
     "slide_type": "fragment"
    }
   },
   "source": [
    "* les expressions de toutes les branches doivent avoir le même type\n",
    "* ⚠️ la clause `match` doit être **exhaustive** (couvrir toutes les valeurs possibles)"
   ]
  },
  {
   "cell_type": "markdown",
   "metadata": {
    "slideshow": {
     "slide_type": "subslide"
    }
   },
   "source": [
    "* les branches d'un `match` peuvent être des blocs (qui sont aussi des expressions)\n",
    "* les branches d'un `match` peuvent ne retourner aucune valeur\n",
    "* le motif `_` correspond à n'importe quelle valeur"
   ]
  },
  {
   "cell_type": "code",
   "execution_count": 17,
   "metadata": {},
   "outputs": [],
   "source": [
    "fn combien(n: usize) {\n",
    "    match n {\n",
    "        0..10 => {\n",
    "            println!(\"un peu\");\n",
    "        }\n",
    "        10..100 => {\n",
    "            println!(\"beaucoup\");\n",
    "        }\n",
    "        _ => {\n",
    "            println!(\"énormément\");\n",
    "        }\n",
    "        \n",
    "    }\n",
    "}"
   ]
  },
  {
   "cell_type": "markdown",
   "metadata": {},
   "source": [
    "NB: la clause `match` peut faire beaucoup plus de choses, que nous verrons plus tard."
   ]
  },
  {
   "cell_type": "markdown",
   "metadata": {
    "slideshow": {
     "slide_type": "subslide"
    }
   },
   "source": [
    "### Itérateurs 🦀"
   ]
  },
  {
   "cell_type": "code",
   "execution_count": 18,
   "metadata": {},
   "outputs": [],
   "source": [
    "fn fact(n: u64) -> u64 {\n",
    "    (2..=n).product()\n",
    "}"
   ]
  },
  {
   "cell_type": "code",
   "execution_count": 19,
   "metadata": {
    "slideshow": {
     "slide_type": "notes"
    }
   },
   "outputs": [],
   "source": [
    "assert_eq!(fact(7), 5040); // test"
   ]
  },
  {
   "cell_type": "markdown",
   "metadata": {
    "slideshow": {
     "slide_type": "-"
    }
   },
   "source": [
    "* les itérateurs Rust possèdent de nombreuses méthodes\n",
    "  + généralistes: `map`, `filter`, `fold`...\n",
    "  + spécialisées: `sum`, `min`, `max`..."
   ]
  },
  {
   "cell_type": "code",
   "execution_count": 20,
   "metadata": {
    "slideshow": {
     "slide_type": "fragment"
    }
   },
   "outputs": [],
   "source": [
    "fn fact(n: u64) -> u64 {\n",
    "    (2..=n).fold(1, |s, i| s*i)\n",
    "}"
   ]
  },
  {
   "cell_type": "markdown",
   "metadata": {
    "slideshow": {
     "slide_type": "-"
    }
   },
   "source": [
    "* `fold` est similaire à la méthode `reduce` en Javascript\n",
    "* la notation `|s, i| s*i` est une fonction anonyme (clôture)"
   ]
  },
  {
   "cell_type": "code",
   "execution_count": 21,
   "metadata": {
    "slideshow": {
     "slide_type": "notes"
    }
   },
   "outputs": [],
   "source": [
    "assert_eq!(fact(7), 5040); // test"
   ]
  },
  {
   "cell_type": "markdown",
   "metadata": {
    "slideshow": {
     "slide_type": "slide"
    }
   },
   "source": [
    "## Types"
   ]
  },
  {
   "cell_type": "markdown",
   "metadata": {
    "slideshow": {
     "slide_type": "subslide"
    }
   },
   "source": [
    "### Types primitifs\n",
    "\n",
    "* Entiers (`i8`, `i16`, `i32`, `i64`, `i128`, `isize`) — e.g. `42`, `-1`\n",
    "    \n",
    "* Entiers non signés (`u8`, `u16`, `u32`, `u64`, `u128`, `usize`) — e.g. `42`, `101`\n",
    "    \n",
    "* Flotants (`f32`, `f64`) — e.g. `1.0`, `3.14`, `6.626e-34`\n",
    "* Booléens (`bool`) — e.g. `true`, `false`\n",
    "* Caractères (`char`) — e.g. `'&'`, `'ê'`, `'π'`, `'☃'` (unicode → 32 bits)"
   ]
  },
  {
   "cell_type": "markdown",
   "metadata": {
    "slideshow": {
     "slide_type": "subslide"
    }
   },
   "source": [
    "### Tuples"
   ]
  },
  {
   "cell_type": "code",
   "execution_count": 22,
   "metadata": {},
   "outputs": [
    {
     "name": "stdout",
     "output_type": "stream",
     "text": [
      "(2, 17)\n"
     ]
    }
   ],
   "source": [
    "/// Retourne une paire d'entiers contenant\n",
    "/// le quotient et le reste de la division euclidienne de a par n\n",
    "fn divmod(a: i64, b: i64) -> (i64, i64) {\n",
    "    (a/b, a%b)\n",
    "}\n",
    "\n",
    "let paire = divmod(101, 42);\n",
    "println!(\"{paire:?}\");"
   ]
  },
  {
   "cell_type": "markdown",
   "metadata": {
    "slideshow": {
     "slide_type": "fragment"
    }
   },
   "source": [
    "* Un type de tuple peut avoir des éléments hétérogènes (e.g. `(i32, f64)`)\n",
    "* Un type de tuple peut avoir un nombre arbitraire d'éléments (e.g. `(i32, f64, i32)`)\n",
    "* Chaque type de tuple est un type distinct\n",
    "* Le type \"0-uple\" `()` est appelé *unit* ou *nil*;\n",
    "  c'est le type de retour implicite des fonctions qui ne retournent \"rien\""
   ]
  },
  {
   "cell_type": "markdown",
   "metadata": {
    "slideshow": {
     "slide_type": "subslide"
    }
   },
   "source": [
    "#### Accéder aux éléments d'un tuple"
   ]
  },
  {
   "cell_type": "code",
   "execution_count": 23,
   "metadata": {},
   "outputs": [
    {
     "name": "stdout",
     "output_type": "stream",
     "text": [
      "Quotient: 2\n",
      "Reste:    17\n"
     ]
    }
   ],
   "source": [
    "let paire = divmod(101, 42);\n",
    "println!(\"Quotient: {}\", paire.0);\n",
    "println!(\"Reste:    {}\", paire.1);"
   ]
  },
  {
   "cell_type": "markdown",
   "metadata": {
    "slideshow": {
     "slide_type": "subslide"
    }
   },
   "source": [
    "### Tableau"
   ]
  },
  {
   "cell_type": "code",
   "execution_count": 24,
   "metadata": {},
   "outputs": [
    {
     "name": "stdout",
     "output_type": "stream",
     "text": [
      "[11, 22, 33, 44, 11, 22, 33, 44, 11, 22]...[33, 44]\n"
     ]
    }
   ],
   "source": [
    "let a: [i32; 4] = [11, 22, 33, 44];\n",
    "let mut b: [i32; 10_000] = [0; 10_000];\n",
    "\n",
    "for i in 0..b.len() {\n",
    "    b[i] = a[i % a.len()];\n",
    "}\n",
    "println!(\"{:?}...{:?}\", &b[..10], &b[9998..]);"
   ]
  },
  {
   "cell_type": "markdown",
   "metadata": {
    "slideshow": {
     "slide_type": "fragment"
    }
   },
   "source": [
    "* méthode `.len()` pour avoir la taille\n",
    "* notation `[...]` pour accéder aux éléments (indice `usize` ou *intervalle*)\n",
    "* 🦀 accéder à un indice en dehors des bornes causera une erreur (*panic*) ≠ C,C++"
   ]
  },
  {
   "cell_type": "markdown",
   "metadata": {
    "slideshow": {
     "slide_type": "subslide"
    }
   },
   "source": [
    "### Tableau statique / tranche (*slice*)"
   ]
  },
  {
   "cell_type": "markdown",
   "metadata": {
    "slideshow": {
     "slide_type": "-"
    }
   },
   "source": [
    "* Étant donné un type `T` et un entier `N`\n",
    "  + le type `[T; N]` est un type de tableau statique (taille connue à la compilation)\n",
    "  + le type `[T]` est un type **tranche** (tableau dynamique, taille connue à l'exécution)\n"
   ]
  },
  {
   "cell_type": "markdown",
   "metadata": {
    "slideshow": {
     "slide_type": "subslide"
    }
   },
   "source": [
    "### Pas de conversion implicite"
   ]
  },
  {
   "cell_type": "code",
   "execution_count": 25,
   "metadata": {},
   "outputs": [],
   "source": [
    "// ce code ne compile pas\n",
    "let x: f32 = 1.5;\n",
    "let y: f64 = x as f64;\n",
    "//             ^^^^^^\n",
    "// Ne compile pas sinon."
   ]
  },
  {
   "cell_type": "markdown",
   "metadata": {
    "slideshow": {
     "slide_type": "subslide"
    }
   },
   "source": [
    "⚠️ Attention: certains conversion perdent de l'information"
   ]
  },
  {
   "cell_type": "code",
   "execution_count": 26,
   "metadata": {},
   "outputs": [
    {
     "data": {
      "text/plain": [
       "1.0"
      ]
     },
     "execution_count": 26,
     "metadata": {},
     "output_type": "execute_result"
    }
   ],
   "source": [
    "let f: f64 = 1.000000000001;\n",
    "f as f32"
   ]
  },
  {
   "cell_type": "code",
   "execution_count": 27,
   "metadata": {},
   "outputs": [
    {
     "data": {
      "text/plain": [
       "2"
      ]
     },
     "execution_count": 27,
     "metadata": {},
     "output_type": "execute_result"
    }
   ],
   "source": [
    "let f = 2.5;\n",
    "f as i32"
   ]
  },
  {
   "cell_type": "code",
   "execution_count": 28,
   "metadata": {},
   "outputs": [
    {
     "data": {
      "text/plain": [
       "44"
      ]
     },
     "execution_count": 28,
     "metadata": {},
     "output_type": "execute_result"
    }
   ],
   "source": [
    "let n: i16 = 300;\n",
    "n as i8"
   ]
  },
  {
   "cell_type": "code",
   "execution_count": 29,
   "metadata": {},
   "outputs": [
    {
     "data": {
      "text/plain": [
       "4294967295"
      ]
     },
     "execution_count": 29,
     "metadata": {},
     "output_type": "execute_result"
    }
   ],
   "source": [
    "let n: i32 = -1;\n",
    "n as u32"
   ]
  }
 ],
 "metadata": {
  "celltoolbar": "Slideshow",
  "kernelspec": {
   "display_name": "Rust",
   "language": "rust",
   "name": "rust"
  },
  "language_info": {
   "codemirror_mode": "rust",
   "file_extension": ".rs",
   "mimetype": "text/rust",
   "name": "Rust",
   "pygment_lexer": "rust",
   "version": ""
  }
 },
 "nbformat": 4,
 "nbformat_minor": 2
}
