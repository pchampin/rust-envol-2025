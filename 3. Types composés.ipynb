{
 "cells": [
  {
   "cell_type": "markdown",
   "id": "29582079",
   "metadata": {
    "slideshow": {
     "slide_type": "slide"
    }
   },
   "source": [
    "# Types composés: `struct` et `enum`\n",
    "\n",
    "\n",
    "[Pierre-Antoine Champin](https://champin.net/) (W3C/Inria/Lyon 1)\n",
    "\n",
    "http://github.com/pchampin/rust-envol-2025\n",
    "\n",
    "<a rel=\"license\" href=\"http://creativecommons.org/licenses/by-nc-sa/2.0/fr/\"><img alt=\"Contrat Creative Commons\" style=\"border-width:0\" src=\"http://i.creativecommons.org/l/by-nc-sa/2.0/fr/88x31.png\" /></a>"
   ]
  },
  {
   "cell_type": "markdown",
   "id": "97c16113",
   "metadata": {
    "slideshow": {
     "slide_type": "slide"
    }
   },
   "source": [
    "# Types `struct`<a class=\"anchor\" id=\"struct\"></a>\n",
    "\n",
    "Quelque part entre les `struct` du C et les `class` du C++"
   ]
  },
  {
   "cell_type": "markdown",
   "id": "27b40cd6",
   "metadata": {
    "slideshow": {
     "slide_type": "subslide"
    }
   },
   "source": [
    "## Déclarer un type `struct`"
   ]
  },
  {
   "cell_type": "code",
   "execution_count": 2,
   "id": "b2c76302",
   "metadata": {
    "slideshow": {
     "slide_type": "-"
    }
   },
   "outputs": [],
   "source": [
    "struct Person {\n",
    "    given_name: String,\n",
    "    family_name: String,\n",
    "    age: u8,\n",
    "}\n",
    "\n",
    "struct Color {\n",
    "    r: u8,\n",
    "    g: u8,\n",
    "    b: u8,\n",
    "}"
   ]
  },
  {
   "cell_type": "code",
   "execution_count": 3,
   "id": "bad6cb5c",
   "metadata": {
    "slideshow": {
     "slide_type": "skip"
    }
   },
   "outputs": [],
   "source": [
    "// redéfinition du type `Color` avec une méthode `clone`,\n",
    "// pour les besoins des exemples suivants\n",
    "#[derive(Clone)]\n",
    "struct Color {\n",
    "    r: u8,\n",
    "    g: u8,\n",
    "    b: u8,\n",
    "}"
   ]
  },
  {
   "cell_type": "markdown",
   "id": "957030a1",
   "metadata": {
    "slideshow": {
     "slide_type": "subslide"
    }
   },
   "source": [
    "## Initialiser un `struct`"
   ]
  },
  {
   "cell_type": "code",
   "execution_count": 4,
   "id": "480602f9",
   "metadata": {
    "slideshow": {
     "slide_type": "-"
    }
   },
   "outputs": [],
   "source": [
    "let black = Color { b: 0, r: 0, g: 0 };\n",
    "\n",
    "let blue = Color { b: 255, ..black };\n",
    "\n",
    "let r = 12;\n",
    "let g = 34;\n",
    "let b = 56;\n",
    "let mut mycolor = Color { r, g, b }; // équivalent à Color { r: r, g: g, b: b }"
   ]
  },
  {
   "cell_type": "markdown",
   "id": "2297d211",
   "metadata": {
    "slideshow": {
     "slide_type": "subslide"
    }
   },
   "source": [
    "## Accéder aux champs d'un `struct`"
   ]
  },
  {
   "cell_type": "code",
   "execution_count": 5,
   "id": "5c635691",
   "metadata": {
    "slideshow": {
     "slide_type": "-"
    }
   },
   "outputs": [],
   "source": [
    "// RAPPEL: 'mycolor' a pour type 'struct Color { r: u8, g: u8, b: u8 }'\n",
    "\n",
    "// en lecture\n",
    "let x = mycolor.b;\n",
    "\n",
    "// en écriture\n",
    "mycolor.r = x+1;"
   ]
  },
  {
   "cell_type": "markdown",
   "id": "8d688175",
   "metadata": {
    "slideshow": {
     "slide_type": "subslide"
    }
   },
   "source": [
    "## `struct` « tuple »"
   ]
  },
  {
   "cell_type": "code",
   "execution_count": 6,
   "id": "df2790bf",
   "metadata": {
    "slideshow": {
     "slide_type": "-"
    }
   },
   "outputs": [],
   "source": [
    "struct Rgb(u8, u8, u8);\n",
    "\n",
    "let green = Rgb(0, 255, 0);\n",
    "\n",
    "// les champs sont accédés comme ceux d'un tuple (.0, .1, ...)\n",
    "let x = green.1;"
   ]
  },
  {
   "cell_type": "markdown",
   "id": "f64a33cd",
   "metadata": {
    "slideshow": {
     "slide_type": "subslide"
    }
   },
   "source": [
    "## `struct` singleton"
   ]
  },
  {
   "cell_type": "code",
   "execution_count": 7,
   "id": "29aeda2f",
   "metadata": {
    "slideshow": {
     "slide_type": "-"
    }
   },
   "outputs": [],
   "source": [
    "struct Foo;\n",
    "\n",
    "let f = Foo;"
   ]
  },
  {
   "cell_type": "markdown",
   "id": "63d79ad7",
   "metadata": {},
   "source": [
    "NB: ces types n'ont qu'une seule valeur (notée de manière identique au type).\n",
    "\n",
    "Cette valeur a une taille mémoire nulle."
   ]
  },
  {
   "cell_type": "markdown",
   "id": "2efd4677",
   "metadata": {
    "slideshow": {
     "slide_type": "slide"
    }
   },
   "source": [
    "# Affectation déstructuranre (a.k.a. *pattern matching*) 🦀 <a class=\"anchor\" id=\"destructuring\"></a>\n"
   ]
  },
  {
   "cell_type": "markdown",
   "id": "e741a689",
   "metadata": {
    "slideshow": {
     "slide_type": "subslide"
    }
   },
   "source": [
    "Au lieu d'écrire"
   ]
  },
  {
   "cell_type": "code",
   "execution_count": 8,
   "id": "08d1378e",
   "metadata": {
    "scrolled": true,
    "slideshow": {
     "slide_type": "-"
    }
   },
   "outputs": [],
   "source": [
    "// RAPPEL: 'mycolor' a pour type 'struct Color { r: u8, g: u8, b: u8 }'\n",
    "\n",
    "let r = mycolor.r;\n",
    "let g = mycolor.g;\n",
    "let b = mycolor.b;"
   ]
  },
  {
   "cell_type": "markdown",
   "id": "721db47d",
   "metadata": {
    "slideshow": {
     "slide_type": "fragment"
    }
   },
   "source": [
    "on peut écrire"
   ]
  },
  {
   "cell_type": "code",
   "execution_count": 9,
   "id": "7b81d995",
   "metadata": {
    "scrolled": true,
    "slideshow": {
     "slide_type": "-"
    }
   },
   "outputs": [],
   "source": [
    "let Color { r, g, b } = mycolor;"
   ]
  },
  {
   "cell_type": "markdown",
   "id": "fcc5cf04",
   "metadata": {
    "slideshow": {
     "slide_type": "subslide"
    }
   },
   "source": [
    "Au lieu d'écrire"
   ]
  },
  {
   "cell_type": "code",
   "execution_count": 10,
   "id": "ff4549fe",
   "metadata": {
    "scrolled": true,
    "slideshow": {
     "slide_type": "-"
    }
   },
   "outputs": [],
   "source": [
    "// RAPPEL: 'mycolor' a pour type 'struct Color { r: u8, g: u8, b: u8 }'\n",
    "\n",
    "let r1 = mycolor.r;\n",
    "let g1 = mycolor.g;\n",
    "let b1 = mycolor.b;"
   ]
  },
  {
   "cell_type": "markdown",
   "id": "31c34bd1",
   "metadata": {
    "slideshow": {
     "slide_type": "-"
    }
   },
   "source": [
    "on peut écrire"
   ]
  },
  {
   "cell_type": "code",
   "execution_count": 11,
   "id": "8fa5f1ee",
   "metadata": {
    "scrolled": true,
    "slideshow": {
     "slide_type": "-"
    }
   },
   "outputs": [],
   "source": [
    "let Color { r: r1, g: g1, b: b1 } = mycolor;"
   ]
  },
  {
   "cell_type": "markdown",
   "id": "6dfa36ab",
   "metadata": {
    "slideshow": {
     "slide_type": "subslide"
    }
   },
   "source": [
    "Au lieu d'écrire"
   ]
  },
  {
   "cell_type": "code",
   "execution_count": 12,
   "id": "eb77aa4c",
   "metadata": {
    "scrolled": true,
    "slideshow": {
     "slide_type": "-"
    }
   },
   "outputs": [],
   "source": [
    "// RAPPEL: 'green' a pour type 'struct Rgb (u8, u8, u8)'\n",
    "\n",
    "let r2 = green.0;\n",
    "let g2 = green.1;\n",
    "let b2 = green.2;"
   ]
  },
  {
   "cell_type": "markdown",
   "id": "ff384760",
   "metadata": {
    "slideshow": {
     "slide_type": "-"
    }
   },
   "source": [
    "on peut écrire"
   ]
  },
  {
   "cell_type": "code",
   "execution_count": 13,
   "id": "e9b8f88a",
   "metadata": {
    "scrolled": true,
    "slideshow": {
     "slide_type": "-"
    }
   },
   "outputs": [],
   "source": [
    "let Rgb(r2, g2, b2) = green;"
   ]
  },
  {
   "cell_type": "markdown",
   "id": "23a02005",
   "metadata": {
    "slideshow": {
     "slide_type": "subslide"
    }
   },
   "source": [
    "## Affectation déstructurante partielle\n",
    "\n",
    "Au lieu d'écrire"
   ]
  },
  {
   "cell_type": "code",
   "execution_count": 14,
   "id": "f64b8c28",
   "metadata": {
    "scrolled": true,
    "slideshow": {
     "slide_type": "-"
    }
   },
   "outputs": [],
   "source": [
    "// RAPPEL: 'mycolor' a pour type 'struct Color { r: u8, g: u8, b: u8 }'\n",
    "\n",
    "let r  = mycolor.r;\n",
    "let b1 = mycolor.b;"
   ]
  },
  {
   "cell_type": "markdown",
   "id": "39ef346f",
   "metadata": {
    "slideshow": {
     "slide_type": "-"
    }
   },
   "source": [
    "on peut écrire"
   ]
  },
  {
   "cell_type": "code",
   "execution_count": 15,
   "id": "148ab96e",
   "metadata": {
    "scrolled": true,
    "slideshow": {
     "slide_type": "-"
    }
   },
   "outputs": [],
   "source": [
    "let Color { b: b1, r, .. } = mycolor;"
   ]
  },
  {
   "cell_type": "markdown",
   "id": "b4c30e73",
   "metadata": {
    "slideshow": {
     "slide_type": "subslide"
    }
   },
   "source": [
    "Au lieu d'écrire"
   ]
  },
  {
   "cell_type": "code",
   "execution_count": 16,
   "id": "a5273e1a",
   "metadata": {
    "scrolled": true,
    "slideshow": {
     "slide_type": "-"
    }
   },
   "outputs": [],
   "source": [
    "// RAPPEL: 'green' a pour type 'struct Rgb(u8, u8, u8)'\n",
    "\n",
    "let r  = green.0;\n",
    "let b1 = green.2;"
   ]
  },
  {
   "cell_type": "markdown",
   "id": "ffa09014",
   "metadata": {
    "slideshow": {
     "slide_type": "-"
    }
   },
   "source": [
    "on peut écrire"
   ]
  },
  {
   "cell_type": "code",
   "execution_count": 17,
   "id": "1ea5d467",
   "metadata": {
    "scrolled": true,
    "slideshow": {
     "slide_type": "-"
    }
   },
   "outputs": [],
   "source": [
    "let Rgb(r, _, b1) = green;"
   ]
  },
  {
   "cell_type": "markdown",
   "id": "5a6ccda4",
   "metadata": {},
   "source": [
    "* `_` permet d'ignorer un champ positionnel\n",
    "* `..` permet d'ignorer plusieurs champs (postionnels ou nommés)"
   ]
  },
  {
   "cell_type": "markdown",
   "id": "292edf5a",
   "metadata": {
    "slideshow": {
     "slide_type": "subslide"
    }
   },
   "source": [
    "## Affectation déstructurante de tuples"
   ]
  },
  {
   "cell_type": "code",
   "execution_count": 18,
   "id": "c8c7c1c9",
   "metadata": {},
   "outputs": [],
   "source": [
    "let t = (1, 0.5, \"txt\");\n",
    "\n",
    "let (a, _, c) = t;"
   ]
  },
  {
   "cell_type": "markdown",
   "id": "67e0b62f",
   "metadata": {
    "slideshow": {
     "slide_type": "fragment"
    }
   },
   "source": [
    "L'affectation multiple de variables en est un cas particulier:"
   ]
  },
  {
   "cell_type": "code",
   "execution_count": 19,
   "id": "d7b0f4b7",
   "metadata": {},
   "outputs": [],
   "source": [
    "let (x, y) = (a-1, a+1);"
   ]
  },
  {
   "cell_type": "markdown",
   "id": "de6b4480",
   "metadata": {
    "slideshow": {
     "slide_type": "subslide"
    }
   },
   "source": [
    "## Affectation déstructurante de tableaux/tranches"
   ]
  },
  {
   "cell_type": "code",
   "execution_count": 20,
   "id": "44a781d6",
   "metadata": {},
   "outputs": [
    {
     "name": "stdout",
     "output_type": "stream",
     "text": [
      "22 55\n"
     ]
    }
   ],
   "source": [
    "let t = [11, 22, 33, 44, 55];\n",
    "\n",
    "let [a, b, c, d, e] = t;\n",
    "let [_, second, .., last] = t;\n",
    "println!(\"{second} {last}\");"
   ]
  },
  {
   "cell_type": "markdown",
   "id": "4e975c88",
   "metadata": {
    "slideshow": {
     "slide_type": "subslide"
    }
   },
   "source": [
    "## Affectation déstructurante récursive"
   ]
  },
  {
   "cell_type": "code",
   "execution_count": 21,
   "id": "b6513769",
   "metadata": {
    "slideshow": {
     "slide_type": "-"
    }
   },
   "outputs": [
    {
     "name": "stdout",
     "output_type": "stream",
     "text": [
      "0 255\n"
     ]
    }
   ],
   "source": [
    "struct Gradient(Color, Color);\n",
    "let gr = Gradient(black.clone(), blue.clone());\n",
    "\n",
    "let Gradient(Color { b: b1, .. }, Color { b: b2, .. }) = gr;\n",
    "println!(\"{b1} {b2}\");"
   ]
  },
  {
   "cell_type": "markdown",
   "id": "8fd6cba7",
   "metadata": {
    "slideshow": {
     "slide_type": "subslide"
    }
   },
   "source": [
    "## Affectation déstructurante et déplacement\n",
    "\n",
    "Comme toute affectation en Rust,\n",
    "l'affectation déstructurante a une sémantique de \"déplacement\"\n",
    "\n",
    "– sauf pour les types implémentant le trait `Copy`,\n",
    "ce qui est le cas de tous les exemples précédents (champs de type `u8`)."
   ]
  },
  {
   "cell_type": "code",
   "execution_count": 22,
   "id": "1f8b47ea",
   "metadata": {},
   "outputs": [],
   "source": [
    "let gr = Gradient(black.clone(), blue.clone());\n",
    "let Gradient(c1, c2) = gr;\n",
    "//println!(\"{}\", gr.0.b); // NE COMPILE PAS"
   ]
  },
  {
   "cell_type": "markdown",
   "id": "af9f1a44",
   "metadata": {},
   "source": [
    "La variable `g` est maintenant inutilisable,\n",
    "les valeurs de ses champs ont été *déplacés* dans `c1` et `c2`."
   ]
  },
  {
   "cell_type": "markdown",
   "id": "63ce2883",
   "metadata": {
    "slideshow": {
     "slide_type": "subslide"
    }
   },
   "source": [
    "## Déstructurer une référence"
   ]
  },
  {
   "cell_type": "code",
   "execution_count": 23,
   "id": "96913862",
   "metadata": {},
   "outputs": [
    {
     "name": "stdout",
     "output_type": "stream",
     "text": [
      "A. 255 255\n",
      "B. 128\n"
     ]
    }
   ],
   "source": [
    "let mut gr = Gradient(black.clone(), blue.clone());\n",
    "{\n",
    "    let Gradient(c3, c4) = &gr;\n",
    "    // c3 et c4 sont de type &Color\n",
    "    println!(\"A. {} {}\", c4.b, gr.1.b);\n",
    "}\n",
    "{ \n",
    "    let Gradient(c5, c6) = &mut gr;\n",
    "    // c5 et c6 sont de type &mut Color\n",
    "    // gr.1.b = 128; // NE COMPILE PAS\n",
    "    c6.b = 128;\n",
    "};\n",
    "println!(\"B. {}\", gr.1.b);\n"
   ]
  },
  {
   "cell_type": "markdown",
   "id": "eef22468",
   "metadata": {
    "slideshow": {
     "slide_type": "slide"
    }
   },
   "source": [
    "# Types `enum` 🦀 <a class=\"anchor\" id=\"enum\"></a>\n",
    "\n",
    "Un mélange des `enum` et des `union` du C."
   ]
  },
  {
   "cell_type": "markdown",
   "id": "d62cea1c",
   "metadata": {
    "slideshow": {
     "slide_type": "subslide"
    }
   },
   "source": [
    "## Déclarer un type `enum` simple"
   ]
  },
  {
   "cell_type": "code",
   "execution_count": 24,
   "id": "fa42a293",
   "metadata": {
    "slideshow": {
     "slide_type": "-"
    }
   },
   "outputs": [],
   "source": [
    "enum Beatle {\n",
    "    George,\n",
    "    John,\n",
    "    Paul,\n",
    "    Ringo,\n",
    "}"
   ]
  },
  {
   "cell_type": "markdown",
   "id": "5c4283be",
   "metadata": {
    "slideshow": {
     "slide_type": "fragment"
    }
   },
   "source": [
    "`George`, `John`... sont appelées les **variantes** du type `Beatle`."
   ]
  },
  {
   "cell_type": "markdown",
   "id": "77496f94",
   "metadata": {
    "slideshow": {
     "slide_type": "subslide"
    }
   },
   "source": [
    "## Initialiser un `enum` simple"
   ]
  },
  {
   "cell_type": "code",
   "execution_count": 25,
   "id": "86bce3b7",
   "metadata": {
    "slideshow": {
     "slide_type": "-"
    }
   },
   "outputs": [],
   "source": [
    "let b1 = Beatle::John;"
   ]
  },
  {
   "cell_type": "code",
   "execution_count": 26,
   "id": "70593aa0",
   "metadata": {},
   "outputs": [],
   "source": [
    "use Beatle::*;\n",
    "let b2 = Paul;\n",
    "let b3 = George;"
   ]
  },
  {
   "cell_type": "markdown",
   "id": "c09286a2",
   "metadata": {
    "slideshow": {
     "slide_type": "subslide"
    }
   },
   "source": [
    "## Utiliser un `enum` simple"
   ]
  },
  {
   "cell_type": "code",
   "execution_count": 27,
   "id": "253eb411",
   "metadata": {
    "slideshow": {
     "slide_type": "-"
    }
   },
   "outputs": [],
   "source": [
    "use Beatle::*;\n",
    "\n",
    "fn instrument(b: &Beatle) -> &'static str {\n",
    "    match b {\n",
    "        George | John => \"guitar\",\n",
    "        Paul => \"bass\",\n",
    "        Ringo => \"drums\",\n",
    "    }\n",
    "}"
   ]
  },
  {
   "cell_type": "markdown",
   "id": "34247fed",
   "metadata": {
    "slideshow": {
     "slide_type": "subslide"
    }
   },
   "source": [
    "## Déclarer un type `enum` complexe"
   ]
  },
  {
   "cell_type": "code",
   "execution_count": 28,
   "id": "a6b95b1e",
   "metadata": {
    "slideshow": {
     "slide_type": "-"
    }
   },
   "outputs": [],
   "source": [
    "struct Point { x: f64, y: f64 }\n",
    "\n",
    "enum Figure2D {\n",
    "    Plane,\n",
    "    Line(Point, Point),\n",
    "    Circle { centre: Point, radius: f64 },\n",
    "}"
   ]
  },
  {
   "cell_type": "markdown",
   "id": "b590823f",
   "metadata": {
    "slideshow": {
     "slide_type": "subslide"
    }
   },
   "source": [
    "## Initialiser un `enum` complexe"
   ]
  },
  {
   "cell_type": "code",
   "execution_count": 29,
   "id": "4ca14b04",
   "metadata": {},
   "outputs": [],
   "source": [
    "let p = Figure2D::Plane;\n",
    "let l = Figure2D::Line(Point { x: 1.0, y: 2.0 }, Point { x: 3.0, y: 4.0 });\n",
    "\n",
    "let centre = Point { x: 5.0, y: 6.0 };\n",
    "let c = Figure2D::Circle{ radius: 7.0, centre };\n",
    "\n",
    "// p, l et c ont toutes le même type: Figure2D\n",
    "let figures = [p, l, c]; // a pour type [Figure2D; 3]"
   ]
  },
  {
   "cell_type": "markdown",
   "id": "2438983d",
   "metadata": {
    "slideshow": {
     "slide_type": "subslide"
    }
   },
   "source": [
    "## Utiliser `match` avec un `enum` complexe"
   ]
  },
  {
   "cell_type": "code",
   "execution_count": 30,
   "id": "808fb3a9",
   "metadata": {
    "slideshow": {
     "slide_type": "-"
    }
   },
   "outputs": [],
   "source": [
    "use std::f64::consts::PI;\n",
    "use Figure2D::*;\n",
    "\n",
    "fn area(f: Figure2D) -> f64 {\n",
    "    match f {\n",
    "        Plane => f64::INFINITY,\n",
    "        Line(_, _) => 0.0,\n",
    "        Circle { radius: r, .. } => PI*r*r,\n",
    "    }\n",
    "}"
   ]
  },
  {
   "cell_type": "markdown",
   "id": "aa502b17",
   "metadata": {
    "slideshow": {
     "slide_type": "subslide"
    }
   },
   "source": [
    "## Clause `if let`\n",
    "\n",
    "Au lieu d'écrire:"
   ]
  },
  {
   "cell_type": "code",
   "execution_count": 31,
   "id": "d8b9f3cf",
   "metadata": {
    "slideshow": {
     "slide_type": "-"
    }
   },
   "outputs": [],
   "source": [
    "match &figures[0] {\n",
    "    Line(p1, p2) => { /* faire quelque chose avec p1 and p2 */ }\n",
    "    _ => {}\n",
    "};"
   ]
  },
  {
   "cell_type": "markdown",
   "id": "4d42479a",
   "metadata": {},
   "source": [
    "on peut écrire, de manière plus concise:"
   ]
  },
  {
   "cell_type": "code",
   "execution_count": 32,
   "id": "0802dc54",
   "metadata": {
    "slideshow": {
     "slide_type": "-"
    }
   },
   "outputs": [],
   "source": [
    "if let Line(p1, p2) = &figures[0] {\n",
    "    // fait quelque chose avec p1 et p2\n",
    "};"
   ]
  },
  {
   "cell_type": "markdown",
   "id": "cb691b52",
   "metadata": {},
   "source": [
    "* on peut aussi utiliser `else` avec `if let`\n",
    "* il existe aussi une clause `while let`"
   ]
  },
  {
   "cell_type": "markdown",
   "id": "6cc1c5b3",
   "metadata": {
    "slideshow": {
     "slide_type": "slide"
    }
   },
   "source": [
    "# Méthodes  <a class=\"anchor\" id=\"methods\"></a>"
   ]
  },
  {
   "cell_type": "markdown",
   "id": "1ee97aab",
   "metadata": {
    "slideshow": {
     "slide_type": "subslide"
    }
   },
   "source": [
    "## Tous les types peuvent avoir des méthodes en Rust 🦀\n",
    "\n",
    "... même les types primitifs.\n",
    "\n",
    "E.g."
   ]
  },
  {
   "cell_type": "code",
   "execution_count": 33,
   "id": "5057e2a3",
   "metadata": {},
   "outputs": [],
   "source": [
    "let x = \"hello\".len();\n",
    "let y = 1000.max(x);\n",
    "let z = PI.log2();"
   ]
  },
  {
   "cell_type": "markdown",
   "id": "7e440b81",
   "metadata": {
    "slideshow": {
     "slide_type": "subslide"
    }
   },
   "source": [
    "## Définir les méthodes d'un nouveau type"
   ]
  },
  {
   "cell_type": "code",
   "execution_count": 34,
   "id": "a7fc0d9e",
   "metadata": {},
   "outputs": [],
   "source": [
    "impl Color {\n",
    "    /// Méthode de lecture-seule\n",
    "    fn saturation(&self) -> f64 {\n",
    "        //        ^^^^^ emprunt immutable de self\n",
    "        let cmax = self.r.max(self.g).max(self.b);\n",
    "        if cmax == 0 {\n",
    "            0.0\n",
    "        } else {\n",
    "            let cmax = cmax as f64;\n",
    "            let cmin = self.r.min(self.g).min(self.b) as f64;\n",
    "            (cmax - cmin) / cmax\n",
    "        }\n",
    "    }\n",
    "    \n",
    "    /// Méthode modifiant la valeur\n",
    "    fn lighten(&mut self, delta: u8) {\n",
    "        //     ^^^^^^^^^ emprunt mutable de self\n",
    "        self.r = self.r.saturating_add(delta);\n",
    "        self.g = self.g.saturating_add(delta);\n",
    "        self.b = self.b.saturating_add(delta);\n",
    "    }\n",
    "}"
   ]
  },
  {
   "cell_type": "code",
   "execution_count": 35,
   "id": "d25aa6f4",
   "metadata": {},
   "outputs": [
    {
     "name": "stdout",
     "output_type": "stream",
     "text": [
      "A. 1\n",
      "B. 0.5019607843137255\n"
     ]
    }
   ],
   "source": [
    "let mut c = Color { r: 180, g: 0, b: 0};\n",
    "println!(\"A. {}\", c.saturation());\n",
    "c.lighten(127);\n",
    "println!(\"B. {}\", c.saturation());"
   ]
  },
  {
   "cell_type": "markdown",
   "id": "d1aa1bc4",
   "metadata": {
    "slideshow": {
     "slide_type": "subslide"
    }
   },
   "source": [
    "## Autres méthodes, fonctions associées"
   ]
  },
  {
   "cell_type": "code",
   "execution_count": 36,
   "id": "49941a95",
   "metadata": {},
   "outputs": [],
   "source": [
    "impl Color { // Il peut y avoir plusieurs blocs 'impl'\n",
    "\n",
    "    /// Méthode consommant la valeur\n",
    "    fn to_rgb(self) -> Rgb {\n",
    "        //    ^^^^ déplacement de self dans le corps de la méthode\n",
    "        let Color { r, g, b } = self;\n",
    "        Rgb(r, g, b)\n",
    "    }\n",
    "    \n",
    "    /// Fonction associée, sans paramètre `self`,\n",
    "    /// appelée directement sur le type.\n",
    "    /// Pattern commun pour définir un \"constructuer\"\n",
    "    fn new(r: u8, g: u8, b: u8) -> Color {\n",
    "        Color { r, g, b }\n",
    "    }\n",
    "}"
   ]
  },
  {
   "cell_type": "code",
   "execution_count": 37,
   "id": "ea06a836",
   "metadata": {},
   "outputs": [
    {
     "name": "stdout",
     "output_type": "stream",
     "text": [
      "A. 1\n",
      "B. 0 0 128\n"
     ]
    }
   ],
   "source": [
    "let navy = Color::new(0, 0, 128);\n",
    "println!(\"A. {}\", navy.saturation());\n",
    "let x: Rgb = navy.to_rgb(); \n",
    "// println!(\"{}\", navy.saturation()); // does not compile\n",
    "println!(\"B. {} {} {}\", x.0, x.1, x.2);"
   ]
  },
  {
   "cell_type": "markdown",
   "id": "a64b5a06",
   "metadata": {
    "slideshow": {
     "slide_type": "slide"
    }
   },
   "source": [
    "# `enums` standards 🦀  <a class=\"anchor\" id=\"std-enums\"></a>"
   ]
  },
  {
   "cell_type": "markdown",
   "id": "61380d5a",
   "metadata": {
    "slideshow": {
     "slide_type": "subslide"
    }
   },
   "source": [
    "## Le type `Option<T>` 🦀"
   ]
  },
  {
   "cell_type": "markdown",
   "id": "89a7a9c7",
   "metadata": {
    "slideshow": {
     "slide_type": "subslide"
    }
   },
   "source": [
    "### Motivation\n",
    "\n",
    "* En Java, une fonction retournant `MyObject` peut retourner une instance de `MyObject`... *ou* `null`. (Même chose en C avec les fonctions retournant un pointeur)\n",
    "\n",
    "* C'est une entorse aux règles de typage, car `null` n'est *pas* une instance de `MyObject`\n",
    "\n",
    "  + toute tentative de l'utiliser comme un `MuObject` résultera dans une erreur (`NullPointerException`)\n"
   ]
  },
  {
   "cell_type": "markdown",
   "id": "a7791e9c",
   "metadata": {
    "slideshow": {
     "slide_type": "subslide"
    }
   },
   "source": [
    "* En Rust, une fonction retournant le type `T` **doit** retourner une valeur de type `T`.\n",
    "\n",
    "* Mais il y a des cas ou on souhaite retourner `un `T` ou rien du tout`. Exemples :\n",
    "\n",
    "  + la méthode `pop()` de `Vec<T>` retire et retourne le dernier élément du `Vec` s'il en contient un, mais ne faite rien (et ne *retourne* rien) sinon\n",
    "  \n",
    "  + la méthode `get(i)` d'un tableau `[T]` retourne l'élément à l'indice *i* s'il existe, ou rien si *i* dépasse la taille du tableau\n"
   ]
  },
  {
   "cell_type": "markdown",
   "id": "88ee0d11",
   "metadata": {
    "slideshow": {
     "slide_type": "subslide"
    }
   },
   "source": [
    "* Le type de retour de ces finctions est `Option<T>`, un `enum` à deux variantes:\n",
    "\n",
    "  + `None`, représentant l'absence de valeur\n",
    "  + `Some(t)`, où *t* est une valeur de `T`"
   ]
  },
  {
   "cell_type": "markdown",
   "id": "1debda27",
   "metadata": {
    "slideshow": {
     "slide_type": "subslide"
    }
   },
   "source": [
    "### Exemple d'utilisation de `Option<T>`"
   ]
  },
  {
   "cell_type": "code",
   "execution_count": 38,
   "id": "816a9106",
   "metadata": {
    "slideshow": {
     "slide_type": "subslide"
    }
   },
   "outputs": [
    {
     "name": "stdout",
     "output_type": "stream",
     "text": [
      "[11, 22, 33, 44]\n",
      "retiré la valeur 44\n",
      "[11, 22, 33]\n"
     ]
    }
   ],
   "source": [
    "let mut a: Vec<i32> = vec![11, 22, 33, 44];\n",
    "\n",
    "println!(\"{a:?}\");\n",
    "if let Some(i) = a.pop() {\n",
    "    println!(\"retiré la valeur {i}\");\n",
    "} else {\n",
    "    println!(\"rien à retirer\");\n",
    "}\n",
    "println!(\"{a:?}\");"
   ]
  },
  {
   "cell_type": "markdown",
   "id": "85de79aa",
   "metadata": {
    "slideshow": {
     "slide_type": "subslide"
    }
   },
   "source": [
    "### La méthode `unwrap`\n",
    "\n",
    "Lorsqu'on a la certitude qu'une option n'est pas `None`,\n",
    "on peut utiliser la méthode `unwrap` pour récupérer sa valeur."
   ]
  },
  {
   "cell_type": "code",
   "execution_count": 39,
   "id": "451bf6f9",
   "metadata": {},
   "outputs": [
    {
     "name": "stdout",
     "output_type": "stream",
     "text": [
      "[11, 22, 33, 44]\n",
      "retiré les valeurs 44 et 33\n",
      "[11, 22]\n"
     ]
    }
   ],
   "source": [
    "let mut a: Vec<i32> = vec![11, 22, 33, 44];\n",
    "\n",
    "println!(\"{a:?}\");\n",
    "if a.len() >= 2 {\n",
    "    let x = a.pop().unwrap();\n",
    "    let y = a.pop().unwrap();\n",
    "    println!(\"retiré les valeurs {x} et {y}\");\n",
    "} else {\n",
    "    println!(\"pas assez de valeurs\");\n",
    "}\n",
    "println!(\"{a:?}\");"
   ]
  },
  {
   "cell_type": "markdown",
   "id": "89948d98",
   "metadata": {
    "slideshow": {
     "slide_type": "fragment"
    }
   },
   "source": [
    "Si l'on s'est trompé et qu'on appelle `unwrap` sur `None`,\n",
    "une erreur (*panic*) est déclenchée."
   ]
  },
  {
   "cell_type": "markdown",
   "id": "d9f4e090",
   "metadata": {
    "slideshow": {
     "slide_type": "subslide"
    }
   },
   "source": [
    "## Le type `Result<T,E>` 🦀"
   ]
  },
  {
   "cell_type": "markdown",
   "id": "89a7d506",
   "metadata": {
    "slideshow": {
     "slide_type": "subslide"
    }
   },
   "source": [
    "### Motivation\n",
    "\n",
    "* Certaines fonctions peuvent réussir (et retourner leur résultat normalement) ou *échouer*\n",
    "\n",
    "  + Dans le 2nd cas, on peut souhaiter connaître la raison de l'échec\n",
    "  \n",
    "* En Rust, ces fonctions retournent un `Result<T,E>`, un `enum` avec les variantes suivantes:\n",
    "\n",
    "  + `Ok(t)` où *t* est une valeur de type `T`, représentant le résultat normal de la fonction\n",
    "  + `Err(e)` où *e* est une valeur de type `E`, indiquant un échec"
   ]
  },
  {
   "cell_type": "markdown",
   "id": "ddc8398b",
   "metadata": {
    "slideshow": {
     "slide_type": "subslide"
    }
   },
   "source": [
    "### `Result<T, E>` in action"
   ]
  },
  {
   "cell_type": "code",
   "execution_count": 40,
   "id": "fd098fb9",
   "metadata": {},
   "outputs": [
    {
     "name": "stdout",
     "output_type": "stream",
     "text": [
      "Content: 740 bytes\n"
     ]
    }
   ],
   "source": [
    "use std::fs::read\n",
    "\n",
    "match read(\"README.md\") {\n",
    "    Ok(content) => println!(\"Content: {} bytes\", content.len()),\n",
    "    Err(e) => println!(\"ERROR: {}\", e),\n",
    "};"
   ]
  },
  {
   "cell_type": "markdown",
   "id": "bc7b4d58",
   "metadata": {
    "slideshow": {
     "slide_type": "subslide"
    }
   },
   "source": [
    "NB: le type `Result<T,E>` possède également une méthode `unwrap`,\n",
    "dans le cas où l'on sait qu'on récupère un `Ok`\n",
    "(ou qu'on ne souhaite pas gérer l'erreur mieux qu'en interrompant le programme)."
   ]
  },
  {
   "cell_type": "code",
   "execution_count": 41,
   "id": "8d85f6f5",
   "metadata": {},
   "outputs": [
    {
     "name": "stdout",
     "output_type": "stream",
     "text": [
      "740 bytes\n"
     ]
    }
   ],
   "source": [
    "let content = read(\"README.md\").unwrap();\n",
    "println!(\"{} bytes\", content.len());"
   ]
  },
  {
   "cell_type": "markdown",
   "id": "8a8509c4",
   "metadata": {
    "slideshow": {
     "slide_type": "subslide"
    }
   },
   "source": [
    "### Relayer les erreurs"
   ]
  },
  {
   "cell_type": "code",
   "execution_count": 42,
   "id": "3ddd7b63",
   "metadata": {},
   "outputs": [],
   "source": [
    "use std::io;\n",
    "use std::fs::{read, write};\n",
    "\n",
    "/// Copie au plus 42 octets d'un fichier dans un autre,\n",
    "/// et retourne le nombre d'octets copiés.\n",
    "fn copy_start(filename1: &str, filename2: &str) -> Result<usize, io::Error> {\n",
    "    let mut content = match read(filename1) {\n",
    "        Ok(c) => c,\n",
    "        Err(e) => return Err(e),\n",
    "    };\n",
    "    content.truncate(42);\n",
    "    match write(filename2, &content) {\n",
    "        Ok(()) => {},\n",
    "        Err(e) => return Err(e),\n",
    "    };\n",
    "    Ok(content.len())\n",
    "}"
   ]
  },
  {
   "cell_type": "markdown",
   "id": "e587fb3e",
   "metadata": {},
   "source": [
    "* avantage: `Result` nous oblige a gérer explicitement les erreurs\n",
    "* inconvénient: la gestion d'erreur est mélée au flot normal d'exécution, nuisant à la lisibilité du code\n",
    "* NB: tous ces `match` ont fondamentalement la même structure"
   ]
  },
  {
   "cell_type": "markdown",
   "id": "d7dc37ff",
   "metadata": {
    "slideshow": {
     "slide_type": "subslide"
    }
   },
   "source": [
    "### Relayer les erreurs à la manière Rust 🦀"
   ]
  },
  {
   "cell_type": "code",
   "execution_count": 43,
   "id": "e5d6983a",
   "metadata": {},
   "outputs": [],
   "source": [
    "use std::io;\n",
    "use std::fs::{read, write};\n",
    "\n",
    "/// Copie au plus 42 octets d'un fichier dans un autre,\n",
    "/// et retourne le nombre d'octets copiés.\n",
    "fn copy_start(filename1: &str, filename2: &str) -> Result<usize, io::Error> {\n",
    "    let mut content = read(filename1)?;\n",
    "    content.truncate(42);\n",
    "    write(filename2, &content)?;\n",
    "    Ok(content.len())\n",
    "}"
   ]
  },
  {
   "cell_type": "markdown",
   "id": "0d78746b",
   "metadata": {
    "slideshow": {
     "slide_type": "fragment"
    }
   },
   "source": [
    "L'opérateur `?` est un raccourci pour les `match` récurents de la version précédente.\n",
    "\n",
    "Il suppose que la fonction retourne un `Result` avec le même type d'erreur (ou un type compatible).\n",
    "\n",
    "Ressemble à la gestion des *exceptions* dans d'autres langages, mais de manière plus explicite."
   ]
  }
 ],
 "metadata": {
  "celltoolbar": "Slideshow",
  "kernelspec": {
   "display_name": "Rust",
   "language": "rust",
   "name": "rust"
  },
  "language_info": {
   "codemirror_mode": "rust",
   "file_extension": ".rs",
   "mimetype": "text/rust",
   "name": "Rust",
   "pygment_lexer": "rust",
   "version": ""
  }
 },
 "nbformat": 4,
 "nbformat_minor": 5
}
