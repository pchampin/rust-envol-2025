{
 "cells": [
  {
   "cell_type": "markdown",
   "metadata": {
    "slideshow": {
     "slide_type": "slide"
    }
   },
   "source": [
    "# Gestion de la mémoire en Rust 🦀🦀\n",
    "\n",
    "\n",
    "[Pierre-Antoine Champin](https://champin.net/) (W3C/Inria/Lyon 1)\n",
    "\n",
    "http://github.com/pchampin/rust-envol-2025\n",
    "\n",
    "<a rel=\"license\" href=\"http://creativecommons.org/licenses/by-nc-sa/2.0/fr/\"><img alt=\"Contrat Creative Commons\" style=\"border-width:0\" src=\"http://i.creativecommons.org/l/by-nc-sa/2.0/fr/88x31.png\" /></a>"
   ]
  },
  {
   "cell_type": "markdown",
   "metadata": {
    "slideshow": {
     "slide_type": "slide"
    }
   },
   "source": [
    "## Rappel: la pile et le tas\n",
    "\n",
    "La pile\n",
    "\n",
    "- contient les données des variables locales,\n",
    "- dont la taille est connue à la compilation (statique).\n",
    "- Elle est gérée de manière *dernier arrivé, premier parti* automatiquement, dans tous les langages\n",
    "\n",
    "Le tas\n",
    "\n",
    "- contient les données dont la taille n'est connue qu'à l'exécution (dynamique),\n",
    "- allouées/libérées de manière moins prédictible.\n",
    "- Il est géré différemment selon les langages."
   ]
  },
  {
   "cell_type": "markdown",
   "metadata": {
    "heading_collapsed": true,
    "slideshow": {
     "slide_type": "subslide"
    }
   },
   "source": [
    "### Gestion du tas\n",
    "\n",
    "En C/C++\n",
    "- les dévelopeur⋅euse⋅s ont la charge de libérer la mémoire\n",
    "- ce qui est parfois (souvent ?) une source d'erreurs (mémoire libérée trop tôt, trop tard, jamais...).\n",
    "\n",
    "En Java\n",
    "- le ramasse-miettes (*garbage collector*) a  la charge de libérer la mémoire\n",
    "- ce qui peut causer des problèmes de performance."
   ]
  },
  {
   "cell_type": "markdown",
   "metadata": {
    "slideshow": {
     "slide_type": "subslide"
    }
   },
   "source": [
    "### Gestion du tas\n",
    "\n",
    "En Rust\n",
    "\n",
    "- le **compilateur** a la charge de libérer la mémoire.\n",
    "- Les dévelopeur⋅euse⋅s doivent lui fournir suffisament d'information,\n",
    "- grâce aux concepts de **propriété** et d'**emprunt**. 🦀🦀"
   ]
  },
  {
   "cell_type": "markdown",
   "metadata": {
    "slideshow": {
     "slide_type": "slide"
    }
   },
   "source": [
    "## Sémantique de l'affectation\n",
    "\n",
    "Dans la plupart des langages de programmation,\n",
    "la sémantique de l'affectation est une *copie*.\n",
    "\n",
    "```c\n",
    "v1 = init();\n",
    "v2 = v1;\n",
    "// v1 et v2 contiennent \"la même chose\"\n",
    "```\n",
    "\n",
    "En Rust, la semantique de l'affectation est un *déplacement*\n",
    "\n",
    "* conceptuellement, les données sont déplacées de `v1` vers `v2` ;\n",
    "* après l'affectation, `v1` est considérée comme non-initialisée."
   ]
  },
  {
   "cell_type": "markdown",
   "metadata": {
    "slideshow": {
     "slide_type": "subslide"
    }
   },
   "source": [
    "### Exemple: le type `Vec`"
   ]
  },
  {
   "cell_type": "code",
   "execution_count": 2,
   "metadata": {
    "slideshow": {
     "slide_type": "-"
    }
   },
   "outputs": [],
   "source": [
    "let v1: Vec<i32> = vec![22, 44, 66];"
   ]
  },
  {
   "cell_type": "markdown",
   "metadata": {},
   "source": [
    "<div style=\"text-align: center\">\n",
    "<img alt=\"A Vec in memory\" src=\"images/trpl04-01.svg\" style=\"display: inline; width: 12em;\">\n",
    "</div>"
   ]
  },
  {
   "cell_type": "markdown",
   "metadata": {
    "slideshow": {
     "slide_type": "subslide"
    }
   },
   "source": [
    "### Avec la sémantique \"copie\" (C)"
   ]
  },
  {
   "cell_type": "markdown",
   "metadata": {},
   "source": [
    "```c\n",
    "Vec v1 = init_vec();\n",
    "Vec v2 = v1;\n",
    "```"
   ]
  },
  {
   "cell_type": "markdown",
   "metadata": {},
   "source": [
    "<div style=\"text-align: center\"> <img alt=\"Shallow copy\" src=\"images/trpl04-02.svg\" style=\"display: inline; width: 12em;\"> </div>"
   ]
  },
  {
   "cell_type": "markdown",
   "metadata": {
    "slideshow": {
     "slide_type": "subslide"
    }
   },
   "source": [
    "### Avec la sémantique \"déplacement\" (Rust) 🦀"
   ]
  },
  {
   "cell_type": "code",
   "execution_count": 3,
   "metadata": {
    "slideshow": {
     "slide_type": "-"
    }
   },
   "outputs": [
    {
     "name": "stdout",
     "output_type": "stream",
     "text": [
      "v1=[22, 44, 66]\n",
      "v2=[22, 44, 66]\n"
     ]
    }
   ],
   "source": [
    "let v1: Vec<i32> = vec![22, 44, 66];\n",
    "println!(\"v1={v1:?}\");\n",
    "let v2 = v1;\n",
    "println!(\"v2={v2:?}\");\n",
    "//println!(\"v1={v1:?}\"); // NE COMPILE PAS"
   ]
  },
  {
   "cell_type": "markdown",
   "metadata": {},
   "source": [
    "<div style=\"text-align: center\">\n",
    "<img alt=\"After a move assignment\" src=\"images/trpl04-04.svg\" style=\"display: inline; width: 12em;\">\n",
    "</div>"
   ]
  },
  {
   "cell_type": "markdown",
   "metadata": {
    "slideshow": {
     "slide_type": "subslide"
    }
   },
   "source": [
    "### Copie (profonde) explicite"
   ]
  },
  {
   "cell_type": "code",
   "execution_count": 4,
   "metadata": {
    "scrolled": true,
    "slideshow": {
     "slide_type": "-"
    }
   },
   "outputs": [
    {
     "name": "stdout",
     "output_type": "stream",
     "text": [
      "v1=[22, 44, 66] v2=[22, 44, 66]\n"
     ]
    }
   ],
   "source": [
    "let v1: Vec<i32> = vec![22, 44, 66];\n",
    "let v2 = v1.clone(); // copie (profonde) explicite\n",
    "println!(\"v1={v1:?} v2={v2:?}\");"
   ]
  },
  {
   "cell_type": "markdown",
   "metadata": {},
   "source": [
    "<div style=\"text-align: center\">\n",
    "<img alt=\"After a deep copy\" src=\"images/trpl04-03.svg\" style=\"display: inline; width: 12em;\">\n",
    "</div>"
   ]
  },
  {
   "cell_type": "markdown",
   "metadata": {
    "slideshow": {
     "slide_type": "subslide"
    }
   },
   "source": [
    "### Copie implicite\n",
    "\n",
    "Bien que la sémantique \"déplacement\" soit la règle,\n",
    "il y a des exceptions.\n",
    "\n",
    "En particulier, l'affectation des types primitifs (entiers, flottants, booléens...)\n",
    "a la sémantique \"copie\",\n",
    "car le compilateur sait que cette copie ne pose pas de problème."
   ]
  },
  {
   "cell_type": "code",
   "execution_count": 5,
   "metadata": {},
   "outputs": [
    {
     "name": "stdout",
     "output_type": "stream",
     "text": [
      "x=42 y=42\n"
     ]
    }
   ],
   "source": [
    "let x = 42;\n",
    "let y = x; // copie plutôt qu'un déplacement\n",
    "println!(\"x={x} y={y}\");"
   ]
  },
  {
   "cell_type": "markdown",
   "metadata": {
    "slideshow": {
     "slide_type": "fragment"
    }
   },
   "source": [
    "Plus généralement,\n",
    "tout type qui implémente [trait `Copy`](https://doc.rust-lang.org/stable/std/marker/trait.Copy.html)\n",
    "utilise la sémantique \"copie\" pour les affectations.\n",
    "\n",
    "Les types définis par l'utilisateur peuvent implémenter le trait `Copy`,\n",
    "mais ça n'est pas toujours possible (par exemple, le type `Vec`)."
   ]
  },
  {
   "cell_type": "markdown",
   "metadata": {
    "slideshow": {
     "slide_type": "slide"
    }
   },
   "source": [
    "## Propriété 🦀🦀\n",
    "\n",
    "* Toute donnée est **possédée** par exactement une variable (ou un champs de structure)\n",
    "\n",
    "* Conceptuellement, l'affectation d'une variable à une autre *déplace* les données,\n",
    "  et **transfère la propriété** à la variable destination.\n",
    "  \n",
    "* Lorsqu'une variable n'est plus utilisée (qu'elle devient hors de portée),\n",
    "  si elle possède encore des données, ces données sont **libérées**."
   ]
  },
  {
   "cell_type": "markdown",
   "metadata": {},
   "source": [
    "<div style=\"text-align: center\">\n",
    "<img alt=\"A Vec in memory\" src=\"images/trpl04-01.svg\" style=\"display: inline; width: 12em;\">\n",
    "</div>"
   ]
  },
  {
   "cell_type": "code",
   "execution_count": 6,
   "metadata": {
    "slideshow": {
     "slide_type": "subslide"
    }
   },
   "outputs": [
    {
     "name": "stdout",
     "output_type": "stream",
     "text": [
      "v2=[1, 1, 2, 3, 5, 8, 13]\n",
      "La somme des 7 premiers nombres de Fibonnaci est 33\n"
     ]
    }
   ],
   "source": [
    "fn fibo(nb: usize) -> Vec<i32> {\n",
    "    let mut v1 = Vec::with_capacity(nb); // 1. le Vec est créé ici\n",
    "    for i in 0..nb {\n",
    "        if i < 2 { v1.push(1); }\n",
    "        else     { v1.push(v1[i-2] + v1[i-1]); }\n",
    "    }\n",
    "    v1                                   // 2. sa propriété est transmise à l'appelant (main)\n",
    "}\n",
    "\n",
    "fn main() { \n",
    "    let n = 7;\n",
    "    let v2 = fibo(n);                    // 3. le Vec retourné par `fibo` est déplacé dans v2\n",
    "    println!(\"v2={v2:?}\");\n",
    "    let s = somme(v2);                     // 4. le Vec est déplacé vers le paramètre de la fonction `somme`\n",
    "    println!(\"La somme des {n} premiers nombres de Fibonnaci est {s}\");\n",
    "    //println!(\"{:?}\", v2);             // NE COMPILE PAS\n",
    "}\n",
    "\n",
    "fn somme(v3: Vec<i32>) -> i32 {\n",
    "    v3.iter().sum()\n",
    "}                                        // 5. en sortant de la fonction `sum`,\n",
    "                                         //    `v3` possède encore le Vec, qui est donc libéré\n",
    "\n",
    "main();"
   ]
  },
  {
   "cell_type": "markdown",
   "metadata": {
    "slideshow": {
     "slide_type": "slide"
    }
   },
   "source": [
    "## Emprunt 🦀🦀"
   ]
  },
  {
   "cell_type": "code",
   "execution_count": 7,
   "metadata": {},
   "outputs": [
    {
     "name": "stdout",
     "output_type": "stream",
     "text": [
      "A. v1=[22, 44, 66]\n",
      "B. v2=[22, 44, 66]\n",
      "C. v1=[22, 44, 66]\n"
     ]
    }
   ],
   "source": [
    "let v1: Vec<i32> = vec![22, 44, 66];\n",
    "println!(\"A. v1={v1:?}\");\n",
    "{\n",
    "    let v2 = &v1;\n",
    "    println!(\"B. v2={v2:?}\");\n",
    "}\n",
    "println!(\"C. v1={v1:?}\");"
   ]
  },
  {
   "cell_type": "markdown",
   "metadata": {},
   "source": [
    "<div style=\"text-align: center\">\n",
    "<img alt=\"A reference is a non-owning pointer\" src=\"images/trpl04-05.svg\" style=\"display: inline; width: 16em;\">\n",
    "</div>"
   ]
  },
  {
   "cell_type": "markdown",
   "metadata": {
    "slideshow": {
     "slide_type": "subslide"
    }
   },
   "source": [
    "Pour toute variable `v` de type `T`, `&v` permet d'**emprunter** les données de v.\n",
    "\n",
    "* `&v` est aussi appelé une **référence**, son type est noté `&T`.\n",
    "* En interne, les références sont des pointeurs.\n",
    "* Conceptuellement, une référence ne *possède pas* les données vers lesquelle elle pointe.\n",
    "* Libérer une référence ne libère donc pas les données pointées.\n",
    "* Plusieurs références vers les mêmes données peuvent co-exister."
   ]
  },
  {
   "cell_type": "code",
   "execution_count": 8,
   "metadata": {},
   "outputs": [
    {
     "name": "stdout",
     "output_type": "stream",
     "text": [
      "A. v1=[22, 44, 66]\n",
      "B. v1=[22, 44, 66] v2=[22, 44, 66] v3=[22, 44, 66]\n",
      "C. v1=[22, 44, 66]\n"
     ]
    }
   ],
   "source": [
    "let mut v1: Vec<i32> = vec![22, 44, 66];\n",
    "println!(\"A. v1={v1:?}\");\n",
    "{\n",
    "    let v2 = &v1;\n",
    "    let v3 = &v1;\n",
    "    println!(\"B. v1={v1:?} v2={v2:?} v3={v3:?}\");\n",
    "}\n",
    "println!(\"C. v1={v1:?}\");"
   ]
  },
  {
   "cell_type": "markdown",
   "metadata": {
    "slideshow": {
     "slide_type": "subslide"
    }
   },
   "source": [
    "NB : les données empruntées avec une référence `&T` sont immutable."
   ]
  },
  {
   "cell_type": "code",
   "execution_count": 9,
   "metadata": {},
   "outputs": [
    {
     "name": "stdout",
     "output_type": "stream",
     "text": [
      "A. v1=[22, 44]\n",
      "B. v2=[22, 44]\n",
      "C. v1=[22, 44, 88]\n"
     ]
    }
   ],
   "source": [
    "let mut v1: Vec<i32> = vec![22];\n",
    "v1.push(44);\n",
    "println!(\"A. v1={v1:?}\");\n",
    "{\n",
    "    let v2 = &v1;\n",
    "    //v2.push(66); // NE COMPILE PAS\n",
    "    println!(\"B. v2={v2:?}\");\n",
    "}\n",
    "v1.push(88);\n",
    "println!(\"C. v1={v1:?}\");"
   ]
  },
  {
   "cell_type": "markdown",
   "metadata": {
    "slideshow": {
     "slide_type": "subslide"
    }
   },
   "source": [
    "Pour que l'exemple précédent fonctionne entièrement,\n",
    "il nous faut une **référence mutable**,\n",
    "de type `&mut T`."
   ]
  },
  {
   "cell_type": "code",
   "execution_count": 10,
   "metadata": {
    "slideshow": {
     "slide_type": "-"
    }
   },
   "outputs": [
    {
     "name": "stdout",
     "output_type": "stream",
     "text": [
      "A. v1=[22, 44]\n",
      "B. v2=[22, 44, 66]\n",
      "C. v1=[22, 44, 66, 88]\n"
     ]
    }
   ],
   "source": [
    "let mut v1: Vec<i32> = vec![22];\n",
    "v1.push(44);\n",
    "println!(\"A. v1={v1:?}\");\n",
    "{\n",
    "    let v2 = &mut v1;\n",
    "    v2.push(66);\n",
    "    println!(\"B. v2={v2:?}\");\n",
    "}\n",
    "v1.push(88);\n",
    "println!(\"C. v1={v1:?}\");"
   ]
  },
  {
   "cell_type": "markdown",
   "metadata": {
    "slideshow": {
     "slide_type": "subslide"
    }
   },
   "source": [
    "### Règle d'or pour les références"
   ]
  },
  {
   "cell_type": "markdown",
   "metadata": {},
   "source": [
    "On ne peut pas avoir en même temps\n",
    "\n",
    "* plusieurs références mutables, ni\n",
    "* une référence mutable et une (ou plusieurs) références immutables\n",
    "\n",
    "vers la même valeur, pour éviter\n",
    "\n",
    "* que deux partie du code ne modifient les mêmes données simultanément, ou\n",
    "* qu'une partie du code lise des données en cours de modification.\n",
    "\n",
    "Cette règle est vérifiée par le **borrow checker** (un composant du compilateur)."
   ]
  },
  {
   "cell_type": "code",
   "execution_count": 11,
   "metadata": {
    "slideshow": {
     "slide_type": "subslide"
    }
   },
   "outputs": [
    {
     "name": "stdout",
     "output_type": "stream",
     "text": [
      "A. v1=[22, 44]\n",
      "B. v2=[22, 44]\n",
      "C. v3=[22, 44, 66]\n",
      "D. v1=[22, 44, 66]\n",
      "E. v1=[22, 44, 66, 88]\n"
     ]
    }
   ],
   "source": [
    "let mut v1: Vec<i32> = vec![22];\n",
    "v1.push(44);\n",
    "println!(\"A. v1={v1:?}\");\n",
    "{\n",
    "    let v2 = &v1;\n",
    "    //v1.push(55);  // NE COMPILE PAS\n",
    "    println!(\"B. v2={v2:?}\");\n",
    "}\n",
    "{\n",
    "    let v3 = &mut v1;\n",
    "    v3.push(66);\n",
    "    //v1.push(77);  // NE COMPILE PAS\n",
    "    println!(\"C. v3={v3:?}\");\n",
    "}\n",
    "println!(\"D. v1={v1:?}\");\n",
    "v1.push(88);\n",
    "println!(\"E. v1={v1:?}\");"
   ]
  },
  {
   "cell_type": "markdown",
   "metadata": {
    "slideshow": {
     "slide_type": "subslide"
    }
   },
   "source": [
    "### Déréférence avec `*`\n",
    "\n",
    "* L'opérateur `*` est l'inverse de l'opérateur `&`\n",
    "* Il permet de passer du type `&T` ou `&mut T` au type `T`"
   ]
  },
  {
   "cell_type": "code",
   "execution_count": 12,
   "metadata": {},
   "outputs": [
    {
     "name": "stdout",
     "output_type": "stream",
     "text": [
      "a=43 c=42\n"
     ]
    }
   ],
   "source": [
    "{\n",
    "    let mut a: i32 = 42;\n",
    "    let mut b: &mut i32 = &mut a;\n",
    "    let c: i32 = *b; // copie la valeur empruntée par b (car le type le permet)\n",
    "    *b = 43;         // modifie la valeur empruntée mutablement\n",
    "    println!(\"a={a} c={c}\");\n",
    "};"
   ]
  },
  {
   "cell_type": "markdown",
   "metadata": {
    "slideshow": {
     "slide_type": "subslide"
    }
   },
   "source": [
    "### Référence ≠ pointeur\n",
    "\n",
    "* En interne, ce sont bien des pointeurs.\n",
    "* Mais dans leur utilisation, c'est la *valeur pointée* qui est prise en compte."
   ]
  },
  {
   "cell_type": "code",
   "execution_count": 13,
   "metadata": {},
   "outputs": [
    {
     "data": {
      "text/plain": [
       "true"
      ]
     },
     "execution_count": 13,
     "metadata": {},
     "output_type": "execute_result"
    }
   ],
   "source": [
    "let v = [42, 42];\n",
    "let test = (&v[0] == &v[1]);\n",
    "test"
   ]
  },
  {
   "cell_type": "markdown",
   "metadata": {},
   "source": [
    "* Mieux vaut penser `&T` comme \"une valeur de `T` empruntée à quelqu'un d'autre\"\n",
    "  que comme \"un pointeur vers un `T`\".\n",
    "  \n",
    "  * D'ailleurs, une référence ne peut jamais être un pointeur null. 🦀\n",
    "  \n",
    "* Les types `T` et `&T` sont toutefois des types différents."
   ]
  },
  {
   "cell_type": "markdown",
   "metadata": {
    "slideshow": {
     "slide_type": "slide"
    }
   },
   "source": [
    "## Comment choisir le type des paramètres d'une fonction"
   ]
  },
  {
   "cell_type": "code",
   "execution_count": 14,
   "metadata": {},
   "outputs": [],
   "source": [
    "// ma fonction n'a besoin que de lire les données: &T\n",
    "fn count_zeros(v: &Vec<i32>) -> usize {\n",
    "   v.iter().filter(|i| i==&&0).count()\n",
    "} // NB: on préférerra en général  v: &[i32]"
   ]
  },
  {
   "cell_type": "code",
   "execution_count": 15,
   "metadata": {
    "slideshow": {
     "slide_type": "fragment"
    }
   },
   "outputs": [],
   "source": [
    "// ma fonction n'a besoin que de lire les données,\n",
    "// de taille modeste et avec la sémantique \"copie\": T\n",
    "fn fact(n: usize) -> usize {\n",
    "    if n <= 1 { 1 } else { n*fact(n-1) }\n",
    "}"
   ]
  },
  {
   "cell_type": "code",
   "execution_count": 16,
   "metadata": {
    "slideshow": {
     "slide_type": "fragment"
    }
   },
   "outputs": [],
   "source": [
    "// ma fonction a besoin de modifier les données: &mut T\n",
    "fn add_one(v: &mut Vec<i32>) {\n",
    "    for i in v { *i += 1; }\n",
    "}"
   ]
  },
  {
   "cell_type": "code",
   "execution_count": 17,
   "metadata": {
    "slideshow": {
     "slide_type": "fragment"
    }
   },
   "outputs": [],
   "source": [
    "// ma fonction \"consomme\" les données: T\n",
    "fn add_two(mut v: Vec<i32>) -> Vec<i32> {\n",
    "    v.into_iter().map(|x| x+2).collect()\n",
    "}"
   ]
  },
  {
   "cell_type": "markdown",
   "metadata": {
    "slideshow": {
     "slide_type": "slide"
    }
   },
   "source": [
    "## Longévité (*lifetime*)\n",
    "\n",
    "Le *borrow checker* doit vérifier qu'aucun emprunt de données ne survit au propriétaire de ces données.\n",
    "\n",
    "(puisqu'après la \"mort\" du propriétaire, les données sont libérées et la référence pointerait \"dans le vide\")\n"
   ]
  },
  {
   "cell_type": "code",
   "execution_count": 18,
   "metadata": {},
   "outputs": [
    {
     "ename": "Error",
     "evalue": "`owner2` does not live long enough",
     "output_type": "error",
     "traceback": [
      "        borrower.push(&owner2); // NE COMPILE PAS",
      "\u001b[91m                      ^^^^^^^\u001b[0m \u001b[94mborrowed value does not live long enough\u001b[0m",
      "    }",
      "\u001b[91m    ^\u001b[0m \u001b[94m`owner2` dropped here while still borrowed\u001b[0m",
      "        let owner2 = 44;",
      "\u001b[91m            ^^^^^^\u001b[0m \u001b[94mbinding `owner2` declared here\u001b[0m",
      "    println!(\"C. {borrower:?}\");",
      "\u001b[91m                  ^^^^^^^^\u001b[0m \u001b[94mborrow later used here\u001b[0m",
      "`owner2` does not live long enough"
     ]
    }
   ],
   "source": [
    "{\n",
    "    let owner1 = 22;\n",
    "    let mut borrower: Vec<&i32> = vec![&owner1, &owner1];\n",
    "    println!(\"A. {borrower:?}\");\n",
    "    {\n",
    "        let owner2 = 44;\n",
    "        borrower.push(&owner2); // NE COMPILE PAS\n",
    "        println!(\"B. {borrower:?}\");\n",
    "    }\n",
    "    // ici, 'owner2' n'existe plus (hors de portée)\n",
    "    println!(\"C. {borrower:?}\");\n",
    "};"
   ]
  },
  {
   "cell_type": "markdown",
   "metadata": {
    "slideshow": {
     "slide_type": "subslide"
    }
   },
   "source": [
    "Dans certaines situations, le compilateur a besoin d'indications explicites sur les longévités respectives des différentes références (« qui vit aussi longtemps que qui ? »)."
   ]
  },
  {
   "cell_type": "code",
   "execution_count": 19,
   "metadata": {},
   "outputs": [
    {
     "ename": "Error",
     "evalue": "missing lifetime specifier",
     "output_type": "error",
     "traceback": [
      "fn minus(t1: &[i32], t2: &[i32]) -> Vec<&i32> {",
      "\u001b[91m                                        ^\u001b[0m \u001b[94mexpected named lifetime parameter\u001b[0m",
      "fn minus(t1: &[i32], t2: &[i32]) -> Vec<&i32> {",
      "\u001b[91m             ^^^^^^\u001b[0m \u001b[94m\u001b[0m",
      "fn minus(t1: &[i32], t2: &[i32]) -> Vec<&i32> {",
      "\u001b[91m                         ^^^^^^\u001b[0m \u001b[94m\u001b[0m",
      "missing lifetime specifier",
      "\u001b[1mhelp\u001b[0m: this function's return type contains a borrowed value, but the signature does not say whether it is borrowed from `t1` or `t2`",
      "\u001b[1mhelp\u001b[0m: consider introducing a named lifetime parameter\n\n<'a>"
     ]
    }
   ],
   "source": [
    "// CE CODE NE COMPILE PAS\n",
    "\n",
    "// retoure les valeurs de t1 absentes de t2\n",
    "fn minus(t1: &[i32], t2: &[i32]) -> Vec<&i32> {\n",
    "    let mut v = vec![];\n",
    "    for i in t1 {\n",
    "        if !t2.contains(i) {\n",
    "            v.push(i)\n",
    "        }\n",
    "    }\n",
    "    v\n",
    "}"
   ]
  },
  {
   "cell_type": "markdown",
   "metadata": {
    "slideshow": {
     "slide_type": "subslide"
    }
   },
   "source": [
    "La solution à ce problème (comme suggéré par le compilateur)\n",
    "consiste à expliciter les longévités respective des emprunts,\n",
    "avec des *lifetime parameters*."
   ]
  },
  {
   "cell_type": "code",
   "execution_count": 20,
   "metadata": {},
   "outputs": [],
   "source": [
    "// retoure les valeurs de t1 absentes de t2\n",
    "fn minus<'a, 'b>(t1: &'a [i32], t2: &'b [i32]) -> Vec<&'a i32> {\n",
    "    //  ^^^^^^^^      ^^             ^^                ^^\n",
    "    // indique que l'emprunt retourné\n",
    "    // ne peut pas vivre plus longtemps que v1 (même longévité 'a),\n",
    "    // mais n'est pas impacté par v2 (longévité différente 'b)\n",
    "    let mut v = vec![];\n",
    "    for i in t1 {\n",
    "        if !t2.contains(i) {\n",
    "            v.push(i)\n",
    "        }\n",
    "    }\n",
    "    v\n",
    "}"
   ]
  },
  {
   "cell_type": "markdown",
   "metadata": {
    "slideshow": {
     "slide_type": "subslide"
    }
   },
   "source": [
    "Dans les cas courant, il n'est pas nécessaire de spécifier les longévités;\n",
    "Rust applique des heuristiques correspondant aux cas les plus courants.\n",
    "\n",
    "En particulier, lorsqu'il n'y a qu'une seule référence en entrée, et une seule référence en sortie,\n",
    "elles sont supposée avoir la même longévité."
   ]
  },
  {
   "cell_type": "code",
   "execution_count": 21,
   "metadata": {},
   "outputs": [],
   "source": [
    "// retourne uniquement les valeurs de t1 inférieures à max\n",
    "fn all_lower_than(t1: &[i32], max: i32) -> Vec<&i32> {\n",
    "// équivalent à\n",
    "// fn borrow_items<'a>(v1: &'a [i32]) -> Vec<&'a i32> {\n",
    "    t1.iter()\n",
    "      .filter(|i| i<=&&max)\n",
    "      .collect()\n",
    "}"
   ]
  }
 ],
 "metadata": {
  "celltoolbar": "Slideshow",
  "kernelspec": {
   "display_name": "Rust",
   "language": "rust",
   "name": "rust"
  },
  "language_info": {
   "codemirror_mode": "rust",
   "file_extension": ".rs",
   "mimetype": "text/rust",
   "name": "Rust",
   "pygment_lexer": "rust",
   "version": ""
  }
 },
 "nbformat": 4,
 "nbformat_minor": 2
}
